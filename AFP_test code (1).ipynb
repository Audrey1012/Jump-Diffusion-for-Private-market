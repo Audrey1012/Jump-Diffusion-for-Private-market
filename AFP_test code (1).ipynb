{
 "cells": [
  {
   "cell_type": "code",
   "execution_count": 2,
   "id": "ad77f3d7",
   "metadata": {},
   "outputs": [
    {
     "data": {
      "text/plain": [
       "Text(0.5, 1.0, 'Jump Diffusion Process')"
      ]
     },
     "execution_count": 2,
     "metadata": {},
     "output_type": "execute_result"
    },
    {
     "data": {
      "image/png": "[encoded data removed]",
      "text/plain": [
       "<Figure size 432x288 with 1 Axes>"
      ]
     },
     "metadata": {},
     "output_type": "display_data"
    }
   ],
   "source": [
    " import matplotlib.pyplot as plt\n",
    "plt.style.use('ggplot')\n",
    "import numpy as np\n",
    "import pandas as pd\n",
    "\n",
    "def merton_jump_paths(S, T, r, sigma,  lam, m, v, steps, Npaths):\n",
    "    size=(steps,Npaths)\n",
    "    dt = T/steps \n",
    "    poi_rv = np.multiply(np.random.poisson( lam*dt, size=size),\n",
    "                         np.random.normal(m,v, size=size)).cumsum(axis=0)\n",
    "    geo = np.cumsum(((r -  sigma**2/2 -lam*(m  + v**2*0.5))*dt +\\\n",
    "                              sigma*np.sqrt(dt) * \\\n",
    "                              np.random.normal(size=size)), axis=0)\n",
    "    \n",
    "    return np.exp(geo+poi_rv)*S\n",
    "\n",
    "\n",
    "S = 100 # current stock price\n",
    "T = 1 # time to maturity\n",
    "r = 0.02 # risk free rate\n",
    "m = 0 # meean of jump size\n",
    "v = 0.3 # standard deviation of jump\n",
    "lam =1 # intensity of jump i.e. number of jumps per annum\n",
    "steps =10000 # time steps\n",
    "Npaths = 1 # number of paths to simulate\n",
    "sigma = 0.2 # annaul standard deviation , for weiner process\n",
    "\n",
    "j = merton_jump_paths(S, T, r, sigma, lam, m, v, steps, Npaths)\n",
    "\n",
    "plt.plot(j)\n",
    "plt.xlabel('Days')\n",
    "plt.ylabel('Stock Price')\n",
    "plt.title('Jump Diffusion Process')"
   ]
  },
  {
   "cell_type": "code",
   "execution_count": null,
   "id": "f2bd311b",
   "metadata": {},
   "outputs": [],
   "source": []
  },
  {
   "cell_type": "code",
   "execution_count": 3,
   "id": "b26a7184",
   "metadata": {},
   "outputs": [],
   "source": [
    "data = pd.read_csv(\"C:/Users/saxen/Downloads/data_trial.csv\")\n",
    "data['date'] = pd.to_datetime(data['date'])"
   ]
  },
  {
   "cell_type": "code",
   "execution_count": 4,
   "id": "62166eb9",
   "metadata": {},
   "outputs": [
    {
     "data": {
      "text/html": [
       "<div>\n",
       "<style scoped>\n",
       "    .dataframe tbody tr th:only-of-type {\n",
       "        vertical-align: middle;\n",
       "    }\n",
       "\n",
       "    .dataframe tbody tr th {\n",
       "        vertical-align: top;\n",
       "    }\n",
       "\n",
       "    .dataframe thead th {\n",
       "        text-align: right;\n",
       "    }\n",
       "</style>\n",
       "<table border=\"1\" class=\"dataframe\">\n",
       "  <thead>\n",
       "    <tr style=\"text-align: right;\">\n",
       "      <th></th>\n",
       "      <th>date</th>\n",
       "      <th>id</th>\n",
       "      <th>company_id</th>\n",
       "      <th>round_count</th>\n",
       "      <th>status</th>\n",
       "      <th>post_money_valuation</th>\n",
       "      <th>deal_amount</th>\n",
       "      <th>total_capital_raised</th>\n",
       "      <th>bloat</th>\n",
       "      <th>dilutive_impact</th>\n",
       "      <th>deal_type</th>\n",
       "    </tr>\n",
       "  </thead>\n",
       "  <tbody>\n",
       "    <tr>\n",
       "      <th>0</th>\n",
       "      <td>2007-05-22</td>\n",
       "      <td>90ecfa03-051e-4b27-83ec-7bd80bd8279e</td>\n",
       "      <td>9328e5f3-503d-4ae5-9201-be6c161c9d80</td>\n",
       "      <td>1</td>\n",
       "      <td>Completed</td>\n",
       "      <td>5570000</td>\n",
       "      <td>560000</td>\n",
       "      <td>560000</td>\n",
       "      <td>0.100539</td>\n",
       "      <td>0.100539</td>\n",
       "      <td>Early Stage VC</td>\n",
       "    </tr>\n",
       "    <tr>\n",
       "      <th>1</th>\n",
       "      <td>2007-07-02</td>\n",
       "      <td>99372b0b-1792-4c08-9200-2689f57d909c</td>\n",
       "      <td>9328e5f3-503d-4ae5-9201-be6c161c9d80</td>\n",
       "      <td>2</td>\n",
       "      <td>Completed</td>\n",
       "      <td>10390000</td>\n",
       "      <td>3500000</td>\n",
       "      <td>4060000</td>\n",
       "      <td>0.390760</td>\n",
       "      <td>0.336862</td>\n",
       "      <td>Early Stage VC</td>\n",
       "    </tr>\n",
       "    <tr>\n",
       "      <th>2</th>\n",
       "      <td>2009-04-24</td>\n",
       "      <td>c5f5568c-0b36-4a95-be2e-08960697d6bf</td>\n",
       "      <td>9328e5f3-503d-4ae5-9201-be6c161c9d80</td>\n",
       "      <td>3</td>\n",
       "      <td>Completed</td>\n",
       "      <td>25260000</td>\n",
       "      <td>8090000</td>\n",
       "      <td>12150000</td>\n",
       "      <td>0.480998</td>\n",
       "      <td>0.320269</td>\n",
       "      <td>Later Stage VC</td>\n",
       "    </tr>\n",
       "    <tr>\n",
       "      <th>3</th>\n",
       "      <td>2010-05-19</td>\n",
       "      <td>c6562fdf-4c5f-46db-a380-585bff7158be</td>\n",
       "      <td>9328e5f3-503d-4ae5-9201-be6c161c9d80</td>\n",
       "      <td>4</td>\n",
       "      <td>Completed</td>\n",
       "      <td>46520000</td>\n",
       "      <td>15000000</td>\n",
       "      <td>27150000</td>\n",
       "      <td>0.583620</td>\n",
       "      <td>0.322442</td>\n",
       "      <td>Later Stage VC</td>\n",
       "    </tr>\n",
       "    <tr>\n",
       "      <th>4</th>\n",
       "      <td>2011-09-19</td>\n",
       "      <td>a6c2c8fa-2d6c-4885-9237-f24a57eb040d</td>\n",
       "      <td>9328e5f3-503d-4ae5-9201-be6c161c9d80</td>\n",
       "      <td>5</td>\n",
       "      <td>Completed</td>\n",
       "      <td>100580000</td>\n",
       "      <td>20000000</td>\n",
       "      <td>47150000</td>\n",
       "      <td>0.468781</td>\n",
       "      <td>0.198847</td>\n",
       "      <td>Later Stage VC</td>\n",
       "    </tr>\n",
       "    <tr>\n",
       "      <th>5</th>\n",
       "      <td>2013-03-22</td>\n",
       "      <td>4281b0a7-c563-4b25-a225-0f6b83b1353a</td>\n",
       "      <td>9328e5f3-503d-4ae5-9201-be6c161c9d80</td>\n",
       "      <td>6</td>\n",
       "      <td>Completed</td>\n",
       "      <td>206990000</td>\n",
       "      <td>30000000</td>\n",
       "      <td>77150000</td>\n",
       "      <td>0.372723</td>\n",
       "      <td>0.144935</td>\n",
       "      <td>Later Stage VC</td>\n",
       "    </tr>\n",
       "    <tr>\n",
       "      <th>6</th>\n",
       "      <td>2014-05-14</td>\n",
       "      <td>d31987d3-008e-488e-b1af-4ed65598b39d</td>\n",
       "      <td>9328e5f3-503d-4ae5-9201-be6c161c9d80</td>\n",
       "      <td>7</td>\n",
       "      <td>Completed</td>\n",
       "      <td>578900000</td>\n",
       "      <td>40500000</td>\n",
       "      <td>117650000</td>\n",
       "      <td>0.203230</td>\n",
       "      <td>0.069960</td>\n",
       "      <td>Later Stage VC</td>\n",
       "    </tr>\n",
       "    <tr>\n",
       "      <th>7</th>\n",
       "      <td>2015-12-08</td>\n",
       "      <td>8b7d93bc-fc1a-4708-a519-b6cd410dc3d6</td>\n",
       "      <td>9328e5f3-503d-4ae5-9201-be6c161c9d80</td>\n",
       "      <td>8</td>\n",
       "      <td>Completed</td>\n",
       "      <td>859820000</td>\n",
       "      <td>65000000</td>\n",
       "      <td>182650000</td>\n",
       "      <td>0.212428</td>\n",
       "      <td>0.075597</td>\n",
       "      <td>Later Stage VC</td>\n",
       "    </tr>\n",
       "    <tr>\n",
       "      <th>8</th>\n",
       "      <td>2018-08-22</td>\n",
       "      <td>40103704-092e-4012-b425-2e40f16472f2</td>\n",
       "      <td>9328e5f3-503d-4ae5-9201-be6c161c9d80</td>\n",
       "      <td>9</td>\n",
       "      <td>Completed</td>\n",
       "      <td>1500000000</td>\n",
       "      <td>350000000</td>\n",
       "      <td>532650000</td>\n",
       "      <td>0.355100</td>\n",
       "      <td>0.233333</td>\n",
       "      <td>Later Stage VC</td>\n",
       "    </tr>\n",
       "    <tr>\n",
       "      <th>9</th>\n",
       "      <td>2020-01-31</td>\n",
       "      <td>89898e5d-0a8d-4208-9ada-53b446aa2f6a</td>\n",
       "      <td>9328e5f3-503d-4ae5-9201-be6c161c9d80</td>\n",
       "      <td>10</td>\n",
       "      <td>Completed</td>\n",
       "      <td>1713760000</td>\n",
       "      <td>245000000</td>\n",
       "      <td>245000000</td>\n",
       "      <td>0.142961</td>\n",
       "      <td>0.142961</td>\n",
       "      <td>IPO</td>\n",
       "    </tr>\n",
       "    <tr>\n",
       "      <th>10</th>\n",
       "      <td>2022-07-21</td>\n",
       "      <td>b809d205-6e5a-42a9-9b6a-cc02c22e1fb9</td>\n",
       "      <td>9328e5f3-503d-4ae5-9201-be6c161c9d80</td>\n",
       "      <td>11</td>\n",
       "      <td>Announced/In Progress</td>\n",
       "      <td>3900000000</td>\n",
       "      <td>3900000000</td>\n",
       "      <td>4402300000</td>\n",
       "      <td>1.128795</td>\n",
       "      <td>1.000000</td>\n",
       "      <td>Merger/Acquisition</td>\n",
       "    </tr>\n",
       "  </tbody>\n",
       "</table>\n",
       "</div>"
      ],
      "text/plain": [
       "         date                                    id  \\\n",
       "0  2007-05-22  90ecfa03-051e-4b27-83ec-7bd80bd8279e   \n",
       "1  2007-07-02  99372b0b-1792-4c08-9200-2689f57d909c   \n",
       "2  2009-04-24  c5f5568c-0b36-4a95-be2e-08960697d6bf   \n",
       "3  2010-05-19  c6562fdf-4c5f-46db-a380-585bff7158be   \n",
       "4  2011-09-19  a6c2c8fa-2d6c-4885-9237-f24a57eb040d   \n",
       "5  2013-03-22  4281b0a7-c563-4b25-a225-0f6b83b1353a   \n",
       "6  2014-05-14  d31987d3-008e-488e-b1af-4ed65598b39d   \n",
       "7  2015-12-08  8b7d93bc-fc1a-4708-a519-b6cd410dc3d6   \n",
       "8  2018-08-22  40103704-092e-4012-b425-2e40f16472f2   \n",
       "9  2020-01-31  89898e5d-0a8d-4208-9ada-53b446aa2f6a   \n",
       "10 2022-07-21  b809d205-6e5a-42a9-9b6a-cc02c22e1fb9   \n",
       "\n",
       "                              company_id  round_count                 status  \\\n",
       "0   9328e5f3-503d-4ae5-9201-be6c161c9d80            1              Completed   \n",
       "1   9328e5f3-503d-4ae5-9201-be6c161c9d80            2              Completed   \n",
       "2   9328e5f3-503d-4ae5-9201-be6c161c9d80            3              Completed   \n",
       "3   9328e5f3-503d-4ae5-9201-be6c161c9d80            4              Completed   \n",
       "4   9328e5f3-503d-4ae5-9201-be6c161c9d80            5              Completed   \n",
       "5   9328e5f3-503d-4ae5-9201-be6c161c9d80            6              Completed   \n",
       "6   9328e5f3-503d-4ae5-9201-be6c161c9d80            7              Completed   \n",
       "7   9328e5f3-503d-4ae5-9201-be6c161c9d80            8              Completed   \n",
       "8   9328e5f3-503d-4ae5-9201-be6c161c9d80            9              Completed   \n",
       "9   9328e5f3-503d-4ae5-9201-be6c161c9d80           10              Completed   \n",
       "10  9328e5f3-503d-4ae5-9201-be6c161c9d80           11  Announced/In Progress   \n",
       "\n",
       "    post_money_valuation  deal_amount  total_capital_raised     bloat  \\\n",
       "0                5570000       560000                560000  0.100539   \n",
       "1               10390000      3500000               4060000  0.390760   \n",
       "2               25260000      8090000              12150000  0.480998   \n",
       "3               46520000     15000000              27150000  0.583620   \n",
       "4              100580000     20000000              47150000  0.468781   \n",
       "5              206990000     30000000              77150000  0.372723   \n",
       "6              578900000     40500000             117650000  0.203230   \n",
       "7              859820000     65000000             182650000  0.212428   \n",
       "8             1500000000    350000000             532650000  0.355100   \n",
       "9             1713760000    245000000             245000000  0.142961   \n",
       "10            3900000000   3900000000            4402300000  1.128795   \n",
       "\n",
       "    dilutive_impact           deal_type  \n",
       "0          0.100539      Early Stage VC  \n",
       "1          0.336862      Early Stage VC  \n",
       "2          0.320269      Later Stage VC  \n",
       "3          0.322442      Later Stage VC  \n",
       "4          0.198847      Later Stage VC  \n",
       "5          0.144935      Later Stage VC  \n",
       "6          0.069960      Later Stage VC  \n",
       "7          0.075597      Later Stage VC  \n",
       "8          0.233333      Later Stage VC  \n",
       "9          0.142961                 IPO  \n",
       "10         1.000000  Merger/Acquisition  "
      ]
     },
     "execution_count": 4,
     "metadata": {},
     "output_type": "execute_result"
    }
   ],
   "source": [
    "data"
   ]
  },
  {
   "cell_type": "code",
   "execution_count": 20,
   "id": "b514d4d0",
   "metadata": {},
   "outputs": [
    {
     "name": "stdout",
     "output_type": "stream",
     "text": [
      "0.7698445339998716\n",
      "0.6601671739768131\n",
      "0.4612745983029428\n"
     ]
    }
   ],
   "source": [
    "lambada = []\n",
    "for i in range(1,10):\n",
    "    jump=0\n",
    "    jump = (data[\"post_money_valuation\"][i] - data['deal_amount'][i] - data[\"post_money_valuation\"][i-1])/data[\"post_money_valuation\"][i-1]\n",
    "    time = (data['date'][i] - data['date'][i-1]).days\n",
    "    lambada.append(jump*365/time)\n",
    "\n",
    "lambada_IPO = lambada[8]\n",
    "\n",
    "lambada = lambada[:7]\n",
    "\n",
    "print(np.mean(lambada))\n",
    "print(np.std(lambada))\n",
    "intensity = len(lambada)/(((data['date'][len(data)-1] - data['date'][0]).days)/365)\n",
    "print(intensity)\n"
   ]
  },
  {
   "cell_type": "code",
   "execution_count": 6,
   "id": "f255dc71",
   "metadata": {},
   "outputs": [
    {
     "data": {
      "text/plain": [
       "[0.42930688059922834,\n",
       " 0.5557585723856507,\n",
       " 0.3215609714841493,\n",
       " 0.19794284061534012,\n",
       " 0.17085285538376332,\n",
       " 0.07152338324746006,\n",
       " 0.15038219561442903,\n",
       " 0.11312460468058191]"
      ]
     },
     "execution_count": 6,
     "metadata": {},
     "output_type": "execute_result"
    }
   ],
   "source": [
    "geom = []\n",
    "for i in range(1,10):\n",
    "    ret=0\n",
    "    ret = (data[\"deal_amount\"][i])/data[\"post_money_valuation\"][i-1]\n",
    "    time = (data['date'][i] - data['date'][i-1]).days\n",
    "    geom.append(ret*365/time)\n",
    "geom= geom[1:]\n",
    "geom\n",
    "\n"
   ]
  },
  {
   "cell_type": "code",
   "execution_count": 7,
   "id": "4cf1c3cb",
   "metadata": {},
   "outputs": [
    {
     "data": {
      "text/plain": [
       "1500000000"
      ]
     },
     "execution_count": 7,
     "metadata": {},
     "output_type": "execute_result"
    }
   ],
   "source": []
  },
  {
   "cell_type": "code",
   "execution_count": 25,
   "id": "77511fe3",
   "metadata": {},
   "outputs": [
    {
     "data": {
      "text/plain": [
       "Text(0.5, 1.0, 'Jump Diffusion Process')"
      ]
     },
     "execution_count": 25,
     "metadata": {},
     "output_type": "execute_result"
    },
    {
     "data": {
      "image/png": "[encoded data removed]",
      "text/plain": [
       "<Figure size 432x288 with 1 Axes>"
      ]
     },
     "metadata": {},
     "output_type": "display_data"
    }
   ],
   "source": [
    "S = data['post_money_valuation'][0] # current stock price\n",
    "T = ((data['date'][len(data)-1] - data['date'][0]).days)/365 # time to maturity\n",
    "\n",
    "##Selection bias removal\n",
    "prob_bankruptcy = 0.002155258\n",
    "prob_IPO = 0.031291159\n",
    "prob_other = 0.966553582\n",
    "\n",
    "r = np.mean(geom) # risk free rate\n",
    "m = np.mean(np.array(lambada)*np.array(prob_other) + lambada_IPO*prob_IPO) # meean of jump size\n",
    "v = np.std(np.array(lambada)*np.array(prob_other) + lambada_IPO*prob_IPO) # standard deviation of jump\n",
    "lam = intensity # intensity of jump i.e. number of jumps per annum\n",
    "steps =  3825 #time steps\n",
    "Npaths = 10000 # number of paths to simulate\n",
    "sigma = np.std(geom) # annaul standard deviation , for weiner process\n",
    "\n",
    "j = merton_jump_paths(S, T, r, sigma, lam, m, v, steps, Npaths)\n",
    "\n",
    "plt.plot(np.mean(j,axis=1))\n",
    "plt.xlabel('Days')\n",
    "plt.ylabel('Stock Price')\n",
    "plt.title('Jump Diffusion Process')"
   ]
  },
  {
   "cell_type": "code",
   "execution_count": 27,
   "id": "74da2dd9",
   "metadata": {},
   "outputs": [
    {
     "data": {
      "text/plain": [
       "[<matplotlib.lines.Line2D at 0x2d1fe47c3d0>]"
      ]
     },
     "execution_count": 27,
     "metadata": {},
     "output_type": "execute_result"
    },
    {
     "data": {
      "image/png": "[encoded data removed]",
      "text/plain": [
       "<Figure size 432x288 with 1 Axes>"
      ]
     },
     "metadata": {},
     "output_type": "display_data"
    }
   ],
   "source": [
    "plt.plot(data['post_money_valuation'])"
   ]
  },
  {
   "cell_type": "markdown",
   "id": "dd0973e2",
   "metadata": {},
   "source": [
    "Call Option"
   ]
  },
  {
   "cell_type": "code",
   "execution_count": 28,
   "id": "fe9c8e72",
   "metadata": {},
   "outputs": [
    {
     "data": {
      "text/plain": [
       "1075761857.4686704"
      ]
     },
     "execution_count": 28,
     "metadata": {},
     "output_type": "execute_result"
    }
   ],
   "source": [
    "K = 4000000000\n",
    "rf=0.02\n",
    "mcprice = np.maximum(np.mean(j,axis=1)[-1]-K,0)*np.exp(-rf*T)\n",
    "mcprice"
   ]
  },
  {
   "cell_type": "markdown",
   "id": "4ef7ba1f",
   "metadata": {},
   "source": [
    "Simulation"
   ]
  },
  {
   "cell_type": "code",
   "execution_count": 29,
   "id": "1a5c9c20",
   "metadata": {},
   "outputs": [
    {
     "data": {
      "text/plain": [
       "Text(0.5, 1.0, 'Simulated price')"
      ]
     },
     "execution_count": 29,
     "metadata": {},
     "output_type": "execute_result"
    },
    {
     "data": {
      "image/png": "[encoded data removed]",
      "text/plain": [
       "<Figure size 432x288 with 1 Axes>"
      ]
     },
     "metadata": {},
     "output_type": "display_data"
    }
   ],
   "source": [
    "S = data['post_money_valuation'][len(data)-1] # current stock price\n",
    "T = 5 # time to maturity\n",
    "r = np.mean(geom) # risk free rate\n",
    "m = np.mean(lambada) # meean of jump size\n",
    "v = np.std(lambada) # standard deviation of jump\n",
    "lam = intensity # intensity of jump i.e. number of jumps per annum\n",
    "steps =  1275 #time steps\n",
    "Npaths = 10000 # number of paths to simulate\n",
    "sigma = np.std(geom) # annaul standard deviation , for weiner process\n",
    "\n",
    "j_sim = merton_jump_paths(S, T, r, sigma, lam, m, v, steps, Npaths)\n",
    "plt.plot(np.mean(j_sim,axis=1))\n",
    "plt.xlabel('Days')\n",
    "plt.ylabel('Stock Price')\n",
    "plt.title('Simulated price')"
   ]
  },
  {
   "cell_type": "markdown",
   "id": "bd92817d",
   "metadata": {},
   "source": [
    "Liquidation method"
   ]
  },
  {
   "cell_type": "code",
   "execution_count": 30,
   "id": "a1ae3750",
   "metadata": {},
   "outputs": [],
   "source": [
    "theta=0.5\n",
    "V_thresh = data['post_money_valuation'][len(data)-1]\n",
    "u1 = (sigma**2/2 - r - lam*np.log(theta) + np.sqrt((sigma**2/2 - r - lam*np.log(theta))**2 +(2*sigma**2+2*lam*(np.log(theta))**2)*(lam+rf)))/(sigma**2+lam*(np.log(theta))**2)\n",
    "a1= (1/u1)*(V_thresh**(1-u1))"
   ]
  },
  {
   "cell_type": "code",
   "execution_count": 31,
   "id": "f838fc2f",
   "metadata": {},
   "outputs": [
    {
     "data": {
      "text/plain": [
       "3661381157.978583"
      ]
     },
     "execution_count": 31,
     "metadata": {},
     "output_type": "execute_result"
    }
   ],
   "source": [
    "V = np.mean(j,axis=1)[-1]\n",
    "Liq_val = a1*(V**u1)\n",
    "Liq_val"
   ]
  },
  {
   "cell_type": "code",
   "execution_count": 32,
   "id": "3ded1d0a",
   "metadata": {},
   "outputs": [
    {
     "data": {
      "text/plain": [
       "1624949371.7322774"
      ]
     },
     "execution_count": 32,
     "metadata": {},
     "output_type": "execute_result"
    }
   ],
   "source": [
    "##Assuming K = liquidation value\n",
    "mcprice = np.maximum(np.mean(j,axis=1)[-1]-Liq_val,0)*np.exp(-rf*T)\n",
    "mcprice"
   ]
  }
 ],
 "metadata": {
  "kernelspec": {
   "display_name": "Python 3",
   "language": "python",
   "name": "python3"
  },
  "language_info": {
   "codemirror_mode": {
    "name": "ipython",
    "version": 3
   },
   "file_extension": ".py",
   "mimetype": "text/x-python",
   "name": "python",
   "nbconvert_exporter": "python",
   "pygments_lexer": "ipython3",
   "version": "3.8.8"
  }
 },
 "nbformat": 4,
 "nbformat_minor": 5
}
