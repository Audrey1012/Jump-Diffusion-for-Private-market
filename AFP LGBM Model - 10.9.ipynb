{
 "cells": [
  {
   "cell_type": "code",
   "execution_count": 1,
   "id": "d98522a5",
   "metadata": {},
   "outputs": [],
   "source": [
    "import pandas as pd\n",
    "import numpy as np\n",
    "from sklearn.ensemble import GradientBoostingRegressor, RandomForestRegressor\n",
    "from sklearn.linear_model import LinearRegression\n",
    "from sklearn.decomposition import PCA\n",
    "import  matplotlib.pyplot as plt\n",
    "from sklearn.model_selection import train_test_split, KFold\n",
    "from sklearn.metrics import mean_squared_error as MSE\n",
    "from sklearn.preprocessing import MinMaxScaler\n",
    "import xgboost\n",
    "import lightgbm as lgb"
   ]
  },
  {
   "cell_type": "code",
   "execution_count": 2,
   "id": "84811a5a",
   "metadata": {},
   "outputs": [],
   "source": [
    "train_ = pd.read_csv('C:/Users/akram/Downloads/AFP_Data_train.csv')\n",
    "b = train_[[\"id\",\"company_id\", \"date\", \"status\", \"deal_type\"]]\n",
    "train_ = train_.drop([\"id\",\"company_id\", \"date\", \"status\", \"deal_type\"],axis = 1)\n",
    "b = b.apply(lambda col: pd.factorize(col, sort=True)[0])\n",
    "train = pd.concat([train_, b], sort=False,axis=1)\n"
   ]
  },
  {
   "cell_type": "code",
   "execution_count": 3,
   "id": "0f7e3f41",
   "metadata": {},
   "outputs": [],
   "source": [
    "test_ = pd.read_csv('C:/Users/akram/Downloads/AFP_Data_test.csv')\n",
    "a = test_[['id',\"company_id\", \"date\", \"status\", \"deal_type\"]]\n",
    "test_ = test_.drop([\"id\",\"company_id\", \"date\", \"status\", \"deal_type\"],axis = 1)\n",
    "a = a.apply(lambda col: pd.factorize(col, sort=True)[0])\n",
    "test = pd.concat([test_, a], sort=False,axis=1)\n"
   ]
  },
  {
   "cell_type": "code",
   "execution_count": 11,
   "id": "aaff62ab",
   "metadata": {},
   "outputs": [],
   "source": [
    "# Function to calculate the root mean squared percentage error\n",
    "def rmspe(y_true, y_pred):\n",
    "    return np.sqrt(np.mean(np.square((y_true - y_pred) / y_true)))\n",
    "\n",
    "# Function to early stop with root mean squared percentage error\n",
    "def feval_rmspe(y_pred, lgb_train):\n",
    "    y_true = lgb_train.get_label()\n",
    "    return 'RMSPE', rmspe(y_true, y_pred), False"
   ]
  },
  {
   "cell_type": "code",
   "execution_count": 18,
   "id": "828137e1",
   "metadata": {},
   "outputs": [],
   "source": [
    "seed0 = 2021\n",
    "params= {\n",
    "        'objective': 'rmse',\n",
    "        'boosting_type': 'gbdt',\n",
    "        'max_depth': -1,\n",
    "        'max_bin':100,\n",
    "        'min_data_in_leaf':500,\n",
    "        'learning_rate': 0.05,\n",
    "        'subsample': 0.72,\n",
    "        'subsample_freq': 4,\n",
    "        'feature_fraction': 0.5,\n",
    "        'lambda_l1': 0.5,\n",
    "        'lambda_l2': 1.0,\n",
    "        'categorical_column':[0],\n",
    "        'seed':seed0,\n",
    "        'feature_fraction_seed': seed0,\n",
    "        'bagging_seed': seed0,\n",
    "        'drop_seed': seed0,\n",
    "        'data_random_seed': seed0,\n",
    "        'n_jobs':-1,\n",
    "        'verbose': -1}\n",
    "\n",
    "def train_and_evaluate(train, test):\n",
    "# Hyperparammeters (just basic)\n",
    "    seed0 = 2021\n",
    "    params= {\n",
    "        'objective': 'rmse',\n",
    "        'boosting_type': 'gbdt',\n",
    "        'max_depth': -1,\n",
    "        'max_bin':100,\n",
    "        'min_data_in_leaf':500,\n",
    "        'learning_rate': 0.05,\n",
    "        'subsample': 0.72,\n",
    "        'subsample_freq': 4,\n",
    "        'feature_fraction': 0.5,\n",
    "        'lambda_l1': 0.5,\n",
    "        'lambda_l2': 1.0,\n",
    "        'categorical_column':[0],\n",
    "        'seed':seed0,\n",
    "        'feature_fraction_seed': seed0,\n",
    "        'bagging_seed': seed0,\n",
    "        'drop_seed': seed0,\n",
    "        'data_random_seed': seed0,\n",
    "        'n_jobs':-1,\n",
    "        'verbose': -1}\n",
    "\n",
    "    \n",
    "    # Split features and target\n",
    "    x = train.drop(['post_money_valuation'], axis = 1)\n",
    "    y = train['post_money_valuation']\n",
    "    x_test = test.drop(['post_money_valuation'], axis = 1)\n",
    "\n",
    "    # Create out of folds array\n",
    "    oof_predictions = np.zeros(x.shape[0])\n",
    "    # Create test array to store predictions\n",
    "    test_predictions = np.zeros(x_test.shape[0])\n",
    "    # Create a KFold object\n",
    "    kfold = KFold(n_splits = 5, random_state = 66, shuffle = True)\n",
    "    # Iterate through each fold\n",
    "    for fold, (trn_ind, val_ind) in enumerate(kfold.split(x)):\n",
    "            print(f'Training fold {fold + 1}')\n",
    "            x_train, x_val = x.iloc[trn_ind], x.iloc[val_ind]\n",
    "            y_train, y_val = y.iloc[trn_ind], y.iloc[val_ind]\n",
    "            # Root mean squared percentage error weights\n",
    "            train_weights = 1 / np.square(y_train)\n",
    "            val_weights = 1 / np.square(y_val)\n",
    "            train_dataset = lgb.Dataset(x_train, y_train, weight = train_weights)\n",
    "            val_dataset = lgb.Dataset(x_val, y_val, weight = val_weights)\n",
    "            model = lgb.train(params = params, \n",
    "                              train_set = train_dataset, \n",
    "                              valid_sets = [train_dataset, val_dataset], \n",
    "                              num_boost_round = 10000, \n",
    "                              early_stopping_rounds = 50, \n",
    "                              verbose_eval = 50,\n",
    "                              feval = feval_rmspe)\n",
    "            # Add predictions to the out of folds array\n",
    "            oof_predictions[val_ind] = model.predict(x_val)\n",
    "            # Predict the test set\n",
    "            test_predictions += model.predict(x_test) / 5\n",
    "\n",
    "    rmspe_score = rmspe(y, oof_predictions)\n",
    "    print(f'Our out of folds RMSPE is {rmspe_score}')\n",
    "    # Return test predictions\n",
    "    return test_predictions"
   ]
  },
  {
   "cell_type": "code",
   "execution_count": 20,
   "id": "80ee915c",
   "metadata": {},
   "outputs": [
    {
     "name": "stdout",
     "output_type": "stream",
     "text": [
      "Training fold 1\n",
      "Training until validation scores don't improve for 50 rounds\n"
     ]
    },
    {
     "name": "stderr",
     "output_type": "stream",
     "text": [
      "C:\\Users\\akram\\AppData\\Roaming\\Python\\Python310\\site-packages\\lightgbm\\engine.py:181: UserWarning: 'early_stopping_rounds' argument is deprecated and will be removed in a future release of LightGBM. Pass 'early_stopping()' callback via 'callbacks' argument instead.\n",
      "  _log_warning(\"'early_stopping_rounds' argument is deprecated and will be removed in a future release of LightGBM. \"\n",
      "C:\\Users\\akram\\AppData\\Roaming\\Python\\Python310\\site-packages\\lightgbm\\engine.py:239: UserWarning: 'verbose_eval' argument is deprecated and will be removed in a future release of LightGBM. Pass 'log_evaluation()' callback via 'callbacks' argument instead.\n",
      "  _log_warning(\"'verbose_eval' argument is deprecated and will be removed in a future release of LightGBM. \"\n"
     ]
    },
    {
     "name": "stdout",
     "output_type": "stream",
     "text": [
      "[50]\ttraining's l2: 1.44887e+10\ttraining's RMSPE: 1\tvalid_1's l2: 1.24403e+10\tvalid_1's RMSPE: 1.0017\n",
      "Early stopping, best iteration is:\n",
      "[1]\ttraining's l2: 1.44887e+10\ttraining's RMSPE: 1\tvalid_1's l2: 1.24403e+10\tvalid_1's RMSPE: 1.0017\n",
      "Training fold 2\n",
      "Training until validation scores don't improve for 50 rounds\n",
      "[50]\ttraining's l2: 1.38106e+10\ttraining's RMSPE: 1\tvalid_1's l2: 1.48865e+10\tvalid_1's RMSPE: 0.999459\n",
      "Early stopping, best iteration is:\n",
      "[1]\ttraining's l2: 1.38106e+10\ttraining's RMSPE: 1\tvalid_1's l2: 1.48865e+10\tvalid_1's RMSPE: 0.999459\n",
      "Training fold 3\n",
      "Training until validation scores don't improve for 50 rounds\n",
      "[50]\ttraining's l2: 1.44823e+10\ttraining's RMSPE: 1\tvalid_1's l2: 1.24395e+10\tvalid_1's RMSPE: 1.00091\n",
      "Early stopping, best iteration is:\n",
      "[1]\ttraining's l2: 1.44823e+10\ttraining's RMSPE: 1\tvalid_1's l2: 1.24395e+10\tvalid_1's RMSPE: 1.00091\n",
      "Training fold 4\n",
      "Training until validation scores don't improve for 50 rounds\n",
      "[50]\ttraining's l2: 1.3619e+10\ttraining's RMSPE: 1\tvalid_1's l2: 1.58305e+10\tvalid_1's RMSPE: 0.998875\n",
      "Early stopping, best iteration is:\n",
      "[1]\ttraining's l2: 1.3619e+10\ttraining's RMSPE: 1\tvalid_1's l2: 1.58305e+10\tvalid_1's RMSPE: 0.998875\n",
      "Training fold 5\n",
      "Training until validation scores don't improve for 50 rounds\n",
      "[50]\ttraining's l2: 1.37305e+10\ttraining's RMSPE: 1\tvalid_1's l2: 1.52644e+10\tvalid_1's RMSPE: 0.999232\n",
      "Early stopping, best iteration is:\n",
      "[1]\ttraining's l2: 1.37305e+10\ttraining's RMSPE: 1\tvalid_1's l2: 1.52644e+10\tvalid_1's RMSPE: 0.999232\n",
      "Our out of folds RMSPE is 0.9926764264482866\n"
     ]
    }
   ],
   "source": [
    "y_pred = train_and_evaluate(train,test)\n",
    "test['post_money_valuation'] = pd.Series(y_pred)\n",
    "sub = test[['post_money_valuation']]\n",
    "sub.to_csv(\"C:/Users/akram/Downloads/submission_.csv\")\n"
   ]
  },
  {
   "cell_type": "code",
   "execution_count": null,
   "id": "76f5bba0",
   "metadata": {},
   "outputs": [],
   "source": []
  }
 ],
 "metadata": {
  "kernelspec": {
   "display_name": "Python 3 (ipykernel)",
   "language": "python",
   "name": "python3"
  },
  "language_info": {
   "codemirror_mode": {
    "name": "ipython",
    "version": 3
   },
   "file_extension": ".py",
   "mimetype": "text/x-python",
   "name": "python",
   "nbconvert_exporter": "python",
   "pygments_lexer": "ipython3",
   "version": "3.10.2"
  }
 },
 "nbformat": 4,
 "nbformat_minor": 5
}
