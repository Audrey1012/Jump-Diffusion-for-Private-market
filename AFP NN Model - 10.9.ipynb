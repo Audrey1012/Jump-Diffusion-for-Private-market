{
 "cells": [
  {
   "cell_type": "code",
   "execution_count": 2,
   "id": "fe832852",
   "metadata": {},
   "outputs": [
    {
     "name": "stderr",
     "output_type": "stream",
     "text": [
      "C:\\Users\\akram\\AppData\\Roaming\\Python\\Python310\\site-packages\\requests\\__init__.py:102: RequestsDependencyWarning: urllib3 (1.26.8) or chardet (5.0.0)/charset_normalizer (2.0.10) doesn't match a supported version!\n",
      "  warnings.warn(\"urllib3 ({}) or chardet ({})/charset_normalizer ({}) doesn't match a supported \"\n"
     ]
    }
   ],
   "source": [
    "import sklearn\n",
    "import matplotlib.pyplot as plt\n",
    "import tensorflow\n",
    "import pandas as pd\n",
    "import numpy as np\n",
    "from sklearn.preprocessing import MinMaxScaler, StandardScaler\n",
    "from tensorflow.keras.layers import Dense, BatchNormalization, Dropout\n",
    "from tensorflow.keras.models import Sequential\n",
    "import tensorflow.keras.backend as K\n",
    "from tensorflow.keras.optimizers import Adam\n",
    "from tensorflow import keras\n",
    "import tensorflow as tf\n",
    "from sklearn import model_selection\n",
    "from sklearn.metrics import r2_score\n",
    "import glob\n",
    "import os\n",
    "import gc\n",
    "from joblib import Parallel, delayed"
   ]
  },
  {
   "cell_type": "code",
   "execution_count": 3,
   "id": "ada97a26",
   "metadata": {},
   "outputs": [],
   "source": [
    "train_ = pd.read_csv('C:/Users/akram/Downloads/AFP_Data_train.csv')\n",
    "b = train_[[\"id\",\"company_id\", \"date\", \"status\", \"deal_type\"]]\n",
    "train_ = train_.drop([\"id\",\"company_id\", \"date\", \"status\", \"deal_type\"],axis = 1)\n",
    "b = b.apply(lambda col: pd.factorize(col, sort=True)[0])\n",
    "train = pd.concat([train_, b], sort=False,axis=1)\n",
    "\n",
    "\n",
    "test_ = pd.read_csv('C:/Users/akram/Downloads/AFP_Data_test.csv')\n",
    "a = test_[['id',\"company_id\", \"date\", \"status\", \"deal_type\"]]\n",
    "test_ = test_.drop([\"id\",\"company_id\", \"date\", \"status\", \"deal_type\"],axis = 1)\n",
    "a = a.apply(lambda col: pd.factorize(col, sort=True)[0])\n",
    "test = pd.concat([test_, a], sort=False,axis=1)\n"
   ]
  },
  {
   "cell_type": "code",
   "execution_count": 4,
   "id": "c359dee9",
   "metadata": {},
   "outputs": [],
   "source": [
    "# Split features and target\n",
    "x = train.drop(['post_money_valuation'], axis = 1)\n",
    "y = train[['post_money_valuation']]\n",
    "x_test = test.drop(['post_money_valuation'], axis = 1)\n",
    "\n",
    "### Scaling ####\n",
    "scale_x = StandardScaler()\n",
    "scale_y = StandardScaler()\n",
    "\n",
    "X_train = scale_x.fit_transform(x)\n",
    "y_train = scale_y.fit_transform(y).reshape(-1,1)\n",
    "X_test = scale_x.fit_transform(x_test)\n",
    "\n",
    "nrow= X_train.shape[1:]"
   ]
  },
  {
   "cell_type": "code",
   "execution_count": 5,
   "id": "4e6d7560",
   "metadata": {},
   "outputs": [
    {
     "name": "stderr",
     "output_type": "stream",
     "text": [
      "C:\\Users\\akram\\AppData\\Roaming\\Python\\Python310\\site-packages\\keras\\optimizers\\optimizer_v2\\adam.py:114: UserWarning: The `lr` argument is deprecated, use `learning_rate` instead.\n",
      "  super().__init__(name, **kwargs)\n"
     ]
    },
    {
     "name": "stdout",
     "output_type": "stream",
     "text": [
      "Epoch 1/50\n",
      "1097/1097 [==============================] - 7s 5ms/step - loss: 0.9421 - val_loss: 0.4043\n",
      "Epoch 2/50\n",
      "1097/1097 [==============================] - 2s 2ms/step - loss: 0.5410 - val_loss: 0.6148\n",
      "Epoch 3/50\n",
      "1097/1097 [==============================] - 3s 2ms/step - loss: 0.5593 - val_loss: 0.3728\n",
      "Epoch 4/50\n",
      "1097/1097 [==============================] - 2s 2ms/step - loss: 0.3985 - val_loss: 0.5069\n",
      "Epoch 5/50\n",
      "1097/1097 [==============================] - 2s 2ms/step - loss: 0.3864 - val_loss: 0.4781\n",
      "Epoch 6/50\n",
      "1097/1097 [==============================] - 2s 2ms/step - loss: 0.2684 - val_loss: 0.5481\n",
      "Epoch 7/50\n",
      "1097/1097 [==============================] - 2s 2ms/step - loss: 0.2896 - val_loss: 0.2731\n",
      "Epoch 8/50\n",
      "1097/1097 [==============================] - 2s 2ms/step - loss: 0.4235 - val_loss: 0.3378\n",
      "Epoch 9/50\n",
      "1097/1097 [==============================] - 5s 4ms/step - loss: 0.1993 - val_loss: 0.2892\n",
      "Epoch 10/50\n",
      "1097/1097 [==============================] - 5s 4ms/step - loss: 0.2536 - val_loss: 0.3100\n",
      "Epoch 11/50\n",
      "1097/1097 [==============================] - 6s 6ms/step - loss: 0.3090 - val_loss: 0.3491\n",
      "Epoch 12/50\n",
      "1097/1097 [==============================] - 5s 5ms/step - loss: 0.2392 - val_loss: 0.3916\n",
      "Epoch 13/50\n",
      "1097/1097 [==============================] - 6s 5ms/step - loss: 0.2202 - val_loss: 0.2746\n",
      "Epoch 14/50\n",
      "1097/1097 [==============================] - 6s 5ms/step - loss: 0.2104 - val_loss: 0.2668\n",
      "Epoch 15/50\n",
      "1097/1097 [==============================] - 6s 5ms/step - loss: 0.2029 - val_loss: 0.3123\n",
      "Epoch 16/50\n",
      "1097/1097 [==============================] - 5s 4ms/step - loss: 0.2275 - val_loss: 0.3112\n",
      "Epoch 17/50\n",
      "1097/1097 [==============================] - 5s 5ms/step - loss: 0.2003 - val_loss: 0.3493\n",
      "Epoch 18/50\n",
      "1097/1097 [==============================] - 2s 2ms/step - loss: 0.2141 - val_loss: 0.3028\n",
      "Epoch 19/50\n",
      "1097/1097 [==============================] - 4s 3ms/step - loss: 0.1836 - val_loss: 0.2659\n",
      "Epoch 20/50\n",
      "1097/1097 [==============================] - 3s 2ms/step - loss: 0.1965 - val_loss: 0.3010\n",
      "Epoch 21/50\n",
      "1097/1097 [==============================] - 3s 2ms/step - loss: 0.2294 - val_loss: 0.3195\n",
      "Epoch 22/50\n",
      "1097/1097 [==============================] - 2s 2ms/step - loss: 0.1719 - val_loss: 0.2784\n",
      "Epoch 23/50\n",
      "1097/1097 [==============================] - 2s 2ms/step - loss: 0.1626 - val_loss: 0.2849\n",
      "Epoch 24/50\n",
      "1097/1097 [==============================] - 4s 4ms/step - loss: 0.1745 - val_loss: 0.2623\n",
      "Epoch 25/50\n",
      "1097/1097 [==============================] - 5s 4ms/step - loss: 0.2033 - val_loss: 0.3155\n",
      "Epoch 26/50\n",
      "1097/1097 [==============================] - 5s 4ms/step - loss: 0.1577 - val_loss: 0.3207\n",
      "Epoch 27/50\n",
      "1097/1097 [==============================] - 5s 4ms/step - loss: 0.1276 - val_loss: 0.3084\n",
      "Epoch 28/50\n",
      "1097/1097 [==============================] - 5s 5ms/step - loss: 0.1439 - val_loss: 0.4645\n",
      "Epoch 29/50\n",
      "1097/1097 [==============================] - 5s 5ms/step - loss: 0.1596 - val_loss: 0.2444\n",
      "Epoch 30/50\n",
      "1097/1097 [==============================] - 5s 5ms/step - loss: 0.1709 - val_loss: 0.2814\n",
      "Epoch 31/50\n",
      "1097/1097 [==============================] - 5s 5ms/step - loss: 0.1421 - val_loss: 0.2457\n",
      "Epoch 32/50\n",
      "1097/1097 [==============================] - 5s 4ms/step - loss: 0.2115 - val_loss: 0.3356\n",
      "Epoch 33/50\n",
      "1097/1097 [==============================] - 4s 3ms/step - loss: 0.2823 - val_loss: 0.2339\n",
      "Epoch 34/50\n",
      "1097/1097 [==============================] - 3s 3ms/step - loss: 0.1640 - val_loss: 0.2562\n",
      "Epoch 35/50\n",
      "1097/1097 [==============================] - 2s 2ms/step - loss: 0.1306 - val_loss: 0.2515\n",
      "Epoch 36/50\n",
      "1097/1097 [==============================] - 2s 2ms/step - loss: 0.1385 - val_loss: 0.2511\n",
      "Epoch 37/50\n",
      "1097/1097 [==============================] - 2s 2ms/step - loss: 0.1674 - val_loss: 0.2467\n",
      "Epoch 38/50\n",
      "1097/1097 [==============================] - 2s 2ms/step - loss: 0.1144 - val_loss: 0.2679\n",
      "Epoch 39/50\n",
      "1097/1097 [==============================] - 2s 2ms/step - loss: 0.1884 - val_loss: 0.2975\n",
      "Epoch 40/50\n",
      "1097/1097 [==============================] - 5s 4ms/step - loss: 0.2146 - val_loss: 0.4095\n",
      "Epoch 41/50\n",
      "1097/1097 [==============================] - 5s 4ms/step - loss: 0.1265 - val_loss: 0.2306\n",
      "Epoch 42/50\n",
      "1097/1097 [==============================] - 5s 4ms/step - loss: 0.0982 - val_loss: 0.2526\n",
      "Epoch 43/50\n",
      "1097/1097 [==============================] - 5s 4ms/step - loss: 0.0926 - val_loss: 0.3350\n",
      "Epoch 44/50\n",
      "1097/1097 [==============================] - 5s 5ms/step - loss: 0.1696 - val_loss: 0.2565\n",
      "Epoch 45/50\n",
      "1097/1097 [==============================] - 6s 6ms/step - loss: 0.1223 - val_loss: 0.3730\n",
      "Epoch 46/50\n",
      "1097/1097 [==============================] - 5s 5ms/step - loss: 0.1263 - val_loss: 0.2550\n",
      "Epoch 47/50\n",
      "1097/1097 [==============================] - 5s 4ms/step - loss: 0.1264 - val_loss: 0.2830\n",
      "Epoch 48/50\n",
      "1097/1097 [==============================] - 5s 5ms/step - loss: 0.1526 - val_loss: 0.2392\n",
      "Epoch 49/50\n",
      "1097/1097 [==============================] - 5s 5ms/step - loss: 0.0951 - val_loss: 0.2498\n",
      "Epoch 50/50\n",
      "1097/1097 [==============================] - 4s 4ms/step - loss: 0.2295 - val_loss: 0.4094\n",
      "672/672 [==============================] - 1s 927us/step\n",
      "                                 0\n",
      "post_money_valuation              \n",
      "650000000.0           5.015211e+08\n",
      "21010000.0           -2.182145e+06\n",
      "12000000.0            6.121369e+07\n",
      "10000.0              -2.114911e+08\n",
      "196250000.0           1.062951e+08\n",
      "...                            ...\n",
      "5900000.0            -1.810560e+07\n",
      "149000000.0           8.677122e+07\n",
      "205000000.0           1.095931e+08\n",
      "345000000.0           2.809019e+08\n",
      "350000000.0           3.062144e+08\n",
      "\n",
      "[21501 rows x 1 columns]\n",
      "[[ 5.01521088e+08]\n",
      " [-2.18214475e+06]\n",
      " [ 6.12136880e+07]\n",
      " ...\n",
      " [ 1.09593096e+08]\n",
      " [ 2.80901920e+08]\n",
      " [ 3.06214400e+08]]\n",
      "0        650000000.0\n",
      "1         21010000.0\n",
      "2         12000000.0\n",
      "3            10000.0\n",
      "4        196250000.0\n",
      "            ...     \n",
      "21496      5900000.0\n",
      "21497    149000000.0\n",
      "21498    205000000.0\n",
      "21499    345000000.0\n",
      "21500    350000000.0\n",
      "Name: post_money_valuation, Length: 21501, dtype: float64\n"
     ]
    }
   ],
   "source": [
    "### Model ###\n",
    "\n",
    "model= Sequential()\n",
    "\n",
    "model.add(Dense(100 , input_shape=(nrow), activation='relu', kernel_initializer='normal'))\n",
    "\n",
    "model.add(Dense(75 , activation='relu', kernel_initializer='normal' ))\n",
    "\n",
    "model.add(Dense(50 , activation='relu', kernel_initializer='normal' ))\n",
    "\n",
    "model.add(Dense(25 , activation='relu', kernel_initializer='normal' ))\n",
    "\n",
    "model.add(Dense(1,kernel_initializer='normal',activation='linear'))\n",
    "\n",
    "epochs = 50\n",
    "learning_rate = 0.3\n",
    "decay_rate =learning_rate/epochs\n",
    "adam = Adam(lr = learning_rate, decay= decay_rate)\n",
    "\n",
    "model.compile(optimizer = 'adam', loss= 'mse')\n",
    "\n",
    "model.fit(X_train,y_train,epochs=50,validation_split=0.3)\n",
    "\n",
    "y_pred = model.predict(X_test)\n",
    "y_pred = scale_y.inverse_transform(y_pred)\n",
    "y_test = test['post_money_valuation']\n",
    "#rmspe = (np.sqrt(np.mean(np.square((y_train-y_pred)/y_train))))\n",
    "#print(rmspe)\n",
    "\n",
    "result = pd.DataFrame(y_pred,y_test)\n",
    "print(result)\n",
    "print(y_pred)\n",
    "print(y_test)\n"
   ]
  },
  {
   "cell_type": "code",
   "execution_count": 7,
   "id": "3eb29480",
   "metadata": {},
   "outputs": [
    {
     "data": {
      "image/png": "[encoded data removed]",
      "text/plain": [
       "<Figure size 432x288 with 1 Axes>"
      ]
     },
     "metadata": {
      "needs_background": "light"
     },
     "output_type": "display_data"
    }
   ],
   "source": [
    "plt.plot(y_pred, color='r')\n",
    "plt.plot(y_test, color='b')\n",
    "plt.show()"
   ]
  },
  {
   "cell_type": "code",
   "execution_count": 8,
   "id": "b327959a",
   "metadata": {},
   "outputs": [
    {
     "name": "stderr",
     "output_type": "stream",
     "text": [
      "C:\\Users\\akram\\AppData\\Local\\Temp\\ipykernel_9904\\849166284.py:1: RuntimeWarning: invalid value encountered in log\n",
      "  plt.plot(np.log(y_pred), color='r')\n"
     ]
    },
    {
     "data": {
      "image/png": "[encoded data removed]",
      "text/plain": [
       "<Figure size 432x288 with 1 Axes>"
      ]
     },
     "metadata": {
      "needs_background": "light"
     },
     "output_type": "display_data"
    }
   ],
   "source": [
    "plt.plot(np.log(y_pred), color='r')\n",
    "plt.plot(np.log(y_test), color='b')\n",
    "plt.show()"
   ]
  },
  {
   "cell_type": "code",
   "execution_count": null,
   "id": "f2d4a3ca",
   "metadata": {},
   "outputs": [],
   "source": []
  }
 ],
 "metadata": {
  "kernelspec": {
   "display_name": "Python 3 (ipykernel)",
   "language": "python",
   "name": "python3"
  },
  "language_info": {
   "codemirror_mode": {
    "name": "ipython",
    "version": 3
   },
   "file_extension": ".py",
   "mimetype": "text/x-python",
   "name": "python",
   "nbconvert_exporter": "python",
   "pygments_lexer": "ipython3",
   "version": "3.10.2"
  }
 },
 "nbformat": 4,
 "nbformat_minor": 5
}
