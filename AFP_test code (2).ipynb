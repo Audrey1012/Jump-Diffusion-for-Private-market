{
 "cells": [
  {
   "cell_type": "code",
   "execution_count": 133,
   "id": "ad77f3d7",
   "metadata": {},
   "outputs": [
    {
     "data": {
      "text/plain": [
       "Text(0.5, 1.0, 'Jump Diffusion Process')"
      ]
     },
     "execution_count": 133,
     "metadata": {},
     "output_type": "execute_result"
    },
    {
     "data": {
      "image/png": "[encoded data removed]",
      "text/plain": [
       "<Figure size 432x288 with 1 Axes>"
      ]
     },
     "metadata": {},
     "output_type": "display_data"
    }
   ],
   "source": [
    " import matplotlib.pyplot as plt\n",
    "plt.style.use('ggplot')\n",
    "import numpy as np\n",
    "import pandas as pd\n",
    "\n",
    "def merton_jump_paths(S, T, r, sigma,  lam, m, v, steps, Npaths):\n",
    "    size=(steps,Npaths)\n",
    "    dt = T/steps \n",
    "    poi_rv = np.multiply(np.random.poisson( lam*dt, size=size),\n",
    "                         np.random.normal(m,v, size=size)).cumsum(axis=0)\n",
    "    geo = np.cumsum(((r -  sigma**2/2 -lam*(m  + v**2*0.5))*dt +\\\n",
    "                              sigma*np.sqrt(dt) * \\\n",
    "                              np.random.normal(size=size)), axis=0)\n",
    "    \n",
    "    return np.exp(geo+poi_rv)*S\n",
    "\n",
    "\n",
    "S = 100 # current stock price\n",
    "T = 1 # time to maturity\n",
    "r = 0.02 # risk free rate\n",
    "m = 0 # meean of jump size\n",
    "v = 0.3 # standard deviation of jump\n",
    "lam =1 # intensity of jump i.e. number of jumps per annum\n",
    "steps =10000 # time steps\n",
    "Npaths = 1 # number of paths to simulate\n",
    "sigma = 0.2 # annaul standard deviation , for weiner process\n",
    "\n",
    "j = merton_jump_paths(S, T, r, sigma, lam, m, v, steps, Npaths)\n",
    "\n",
    "plt.plot(j)\n",
    "plt.xlabel('Days')\n",
    "plt.ylabel('Stock Price')\n",
    "plt.title('Jump Diffusion Process')"
   ]
  },
  {
   "cell_type": "code",
   "execution_count": 134,
   "id": "b26a7184",
   "metadata": {},
   "outputs": [
    {
     "name": "stdout",
     "output_type": "stream",
     "text": [
      "0.5367737948084055 0.161516275236918 0.2893489905232798 0.012360939431396786\n"
     ]
    }
   ],
   "source": [
    "df = pd.read_csv('C:/Users/saxen/Downloads/AFP_Data.csv')\n",
    "df['date'] = pd.to_datetime(df['date'])\n",
    "from datetime import timedelta\n",
    "df['date'].iloc[0] + timedelta(days=1) \n",
    "end_date = df['date'][len(df['date'])-1]\n",
    "str_date = df['date'][0]\n",
    "\n",
    "\n",
    "\n",
    "df['date_count'] = df.date.map(df.groupby('date').size())\n",
    "count= sum(df['date_count'])\n",
    "\n",
    "event_dates = len(df['date'].unique())\n",
    "\n",
    "\n",
    "IPO_count=0 \n",
    "\n",
    "bankruptcy_count = 0\n",
    "\n",
    "for i in range(len(df)):\n",
    "    if df['deal_type'][i] == \"IPO\":\n",
    "        IPO_count +=1 \n",
    "IPO_count  \n",
    "\n",
    "for j in range(len(df)):\n",
    "    if df['deal_type'][j] == \"Bankruptcy: Liquidation\":\n",
    "        bankruptcy_count +=1 \n",
    "        \n",
    "for k in range(len(df)):\n",
    "    if df['deal_type'][k] == \"Bankruptcy: Admin/Reorg\":\n",
    "        bankruptcy_count +=1        \n",
    "\n",
    "        \n",
    "total_dates =0\n",
    "\n",
    "t = str_date\n",
    "while t < end_date:\n",
    "    total_dates += 1\n",
    "    t += timedelta(days=1)\n",
    "\n",
    "No_round_count = total_dates - event_dates\n",
    "\n",
    "all_dates_count = total_dates\n",
    "\n",
    "round_count = event_dates - IPO_count - bankruptcy_count\n",
    "\n",
    "\n",
    "#############\n",
    "\n",
    "round_prob = round_count/ all_dates_count\n",
    "IPO_prob = IPO_count/ all_dates_count\n",
    "bankruptcy_prob = bankruptcy_count/all_dates_count\n",
    "no_round_prob = No_round_count/all_dates_count\n",
    "\n",
    "print(round_prob,IPO_prob, no_round_prob,bankruptcy_prob)"
   ]
  },
  {
   "cell_type": "code",
   "execution_count": 135,
   "id": "ca85490a",
   "metadata": {},
   "outputs": [
    {
     "name": "stdout",
     "output_type": "stream",
     "text": [
      "0.5282090312651154 0.161516275236918 0.2979137540665698 0.012360939431396786\n"
     ]
    }
   ],
   "source": [
    "df1 = pd.read_csv('C:/Users/saxen/Downloads/Company/company2.csv')\n",
    "df1['date'] = pd.to_datetime(df1['date'])\n",
    "\n",
    "a=0.007\n",
    "b=1\n",
    "\n",
    "df1[\"running_prob\"] = 1/(1 + np.exp(-a*(np.log(df1['post_money_valuation']) - b )))      \n",
    "        \n",
    "c_prob_round = df1[\"running_prob\"][len(df1)-1]\n",
    "c_prob_IPO = IPO_prob\n",
    "c_prob_bankruptcy = bankruptcy_prob\n",
    "c_no_round_prob = 1-c_prob_round -c_prob_IPO-c_prob_bankruptcy\n",
    "\n",
    "print(c_prob_round,c_prob_IPO,c_no_round_prob, c_prob_bankruptcy)"
   ]
  },
  {
   "cell_type": "code",
   "execution_count": 136,
   "id": "62166eb9",
   "metadata": {},
   "outputs": [],
   "source": [
    "data = pd.read_csv('C:/Users/saxen/Downloads/Company/company2.csv')\n",
    "data['date'] = pd.to_datetime(data['date'])"
   ]
  },
  {
   "cell_type": "code",
   "execution_count": 138,
   "id": "9b4fd65f",
   "metadata": {},
   "outputs": [
    {
     "data": {
      "text/html": [
       "<div>\n",
       "<style scoped>\n",
       "    .dataframe tbody tr th:only-of-type {\n",
       "        vertical-align: middle;\n",
       "    }\n",
       "\n",
       "    .dataframe tbody tr th {\n",
       "        vertical-align: top;\n",
       "    }\n",
       "\n",
       "    .dataframe thead th {\n",
       "        text-align: right;\n",
       "    }\n",
       "</style>\n",
       "<table border=\"1\" class=\"dataframe\">\n",
       "  <thead>\n",
       "    <tr style=\"text-align: right;\">\n",
       "      <th></th>\n",
       "      <th>id</th>\n",
       "      <th>company_id</th>\n",
       "      <th>round_count</th>\n",
       "      <th>date</th>\n",
       "      <th>status</th>\n",
       "      <th>post_money_valuation</th>\n",
       "      <th>deal_amount</th>\n",
       "      <th>total_capital_raised</th>\n",
       "      <th>bloat</th>\n",
       "      <th>dilutive_impact</th>\n",
       "      <th>deal_type</th>\n",
       "      <th>running_prob</th>\n",
       "    </tr>\n",
       "  </thead>\n",
       "  <tbody>\n",
       "    <tr>\n",
       "      <th>0</th>\n",
       "      <td>65ecbd61-73e3-4638-9859-41b9e4a84937</td>\n",
       "      <td>02f2babd-28e9-407c-abf6-ff5ae17495f4</td>\n",
       "      <td>11</td>\n",
       "      <td>1970-01-01 00:00:00.000041556</td>\n",
       "      <td>Completed</td>\n",
       "      <td>27690000</td>\n",
       "      <td>27690000</td>\n",
       "      <td>137630000</td>\n",
       "      <td>4.9704</td>\n",
       "      <td>1</td>\n",
       "      <td>Merger/Acquisition</td>\n",
       "      <td>0.528209</td>\n",
       "    </tr>\n",
       "  </tbody>\n",
       "</table>\n",
       "</div>"
      ],
      "text/plain": [
       "                                     id                            company_id  \\\n",
       "0  65ecbd61-73e3-4638-9859-41b9e4a84937  02f2babd-28e9-407c-abf6-ff5ae17495f4   \n",
       "\n",
       "   round_count                          date     status  post_money_valuation  \\\n",
       "0           11 1970-01-01 00:00:00.000041556  Completed              27690000   \n",
       "\n",
       "   deal_amount  total_capital_raised   bloat  dilutive_impact  \\\n",
       "0     27690000             137630000  4.9704                1   \n",
       "\n",
       "            deal_type  running_prob  \n",
       "0  Merger/Acquisition      0.528209  "
      ]
     },
     "execution_count": 138,
     "metadata": {},
     "output_type": "execute_result"
    }
   ],
   "source": [
    "df1"
   ]
  },
  {
   "cell_type": "code",
   "execution_count": 137,
   "id": "b514d4d0",
   "metadata": {},
   "outputs": [
    {
     "name": "stdout",
     "output_type": "stream",
     "text": [
      "nan\n",
      "nan\n"
     ]
    },
    {
     "name": "stderr",
     "output_type": "stream",
     "text": [
      "C:\\Users\\saxen\\Anaconda3\\lib\\site-packages\\numpy\\core\\fromnumeric.py:3372: RuntimeWarning: Mean of empty slice.\n",
      "  return _methods._mean(a, axis=axis, dtype=dtype,\n",
      "C:\\Users\\saxen\\Anaconda3\\lib\\site-packages\\numpy\\core\\_methods.py:170: RuntimeWarning: invalid value encountered in double_scalars\n",
      "  ret = ret.dtype.type(ret / rcount)\n",
      "C:\\Users\\saxen\\Anaconda3\\lib\\site-packages\\numpy\\core\\_methods.py:233: RuntimeWarning: Degrees of freedom <= 0 for slice\n",
      "  ret = _var(a, axis=axis, dtype=dtype, out=out, ddof=ddof,\n",
      "C:\\Users\\saxen\\Anaconda3\\lib\\site-packages\\numpy\\core\\_methods.py:194: RuntimeWarning: invalid value encountered in true_divide\n",
      "  arrmean = um.true_divide(\n",
      "C:\\Users\\saxen\\Anaconda3\\lib\\site-packages\\numpy\\core\\_methods.py:226: RuntimeWarning: invalid value encountered in double_scalars\n",
      "  ret = ret.dtype.type(ret / rcount)\n"
     ]
    },
    {
     "ename": "ZeroDivisionError",
     "evalue": "float division by zero",
     "output_type": "error",
     "traceback": [
      "\u001b[1;31m---------------------------------------------------------------------------\u001b[0m",
      "\u001b[1;31mZeroDivisionError\u001b[0m                         Traceback (most recent call last)",
      "\u001b[1;32m<ipython-input-137-3593dd10a336>\u001b[0m in \u001b[0;36m<module>\u001b[1;34m\u001b[0m\n\u001b[0;32m      8\u001b[0m \u001b[0mprint\u001b[0m\u001b[1;33m(\u001b[0m\u001b[0mnp\u001b[0m\u001b[1;33m.\u001b[0m\u001b[0mmean\u001b[0m\u001b[1;33m(\u001b[0m\u001b[0mlambada\u001b[0m\u001b[1;33m)\u001b[0m\u001b[1;33m)\u001b[0m\u001b[1;33m\u001b[0m\u001b[1;33m\u001b[0m\u001b[0m\n\u001b[0;32m      9\u001b[0m \u001b[0mprint\u001b[0m\u001b[1;33m(\u001b[0m\u001b[0mnp\u001b[0m\u001b[1;33m.\u001b[0m\u001b[0mstd\u001b[0m\u001b[1;33m(\u001b[0m\u001b[0mlambada\u001b[0m\u001b[1;33m)\u001b[0m\u001b[1;33m)\u001b[0m\u001b[1;33m\u001b[0m\u001b[1;33m\u001b[0m\u001b[0m\n\u001b[1;32m---> 10\u001b[1;33m \u001b[0mintensity\u001b[0m \u001b[1;33m=\u001b[0m \u001b[0mlen\u001b[0m\u001b[1;33m(\u001b[0m\u001b[0mlambada\u001b[0m\u001b[1;33m)\u001b[0m\u001b[1;33m/\u001b[0m\u001b[1;33m(\u001b[0m\u001b[1;33m(\u001b[0m\u001b[1;33m(\u001b[0m\u001b[0mdata\u001b[0m\u001b[1;33m[\u001b[0m\u001b[1;34m'date'\u001b[0m\u001b[1;33m]\u001b[0m\u001b[1;33m[\u001b[0m\u001b[0mlen\u001b[0m\u001b[1;33m(\u001b[0m\u001b[0mdata\u001b[0m\u001b[1;33m)\u001b[0m\u001b[1;33m-\u001b[0m\u001b[1;36m1\u001b[0m\u001b[1;33m]\u001b[0m \u001b[1;33m-\u001b[0m \u001b[0mdata\u001b[0m\u001b[1;33m[\u001b[0m\u001b[1;34m'date'\u001b[0m\u001b[1;33m]\u001b[0m\u001b[1;33m[\u001b[0m\u001b[1;36m0\u001b[0m\u001b[1;33m]\u001b[0m\u001b[1;33m)\u001b[0m\u001b[1;33m.\u001b[0m\u001b[0mdays\u001b[0m\u001b[1;33m)\u001b[0m\u001b[1;33m/\u001b[0m\u001b[1;36m365\u001b[0m\u001b[1;33m)\u001b[0m\u001b[1;33m\u001b[0m\u001b[1;33m\u001b[0m\u001b[0m\n\u001b[0m\u001b[0;32m     11\u001b[0m \u001b[0mprint\u001b[0m\u001b[1;33m(\u001b[0m\u001b[0mintensity\u001b[0m\u001b[1;33m)\u001b[0m\u001b[1;33m\u001b[0m\u001b[1;33m\u001b[0m\u001b[0m\n",
      "\u001b[1;31mZeroDivisionError\u001b[0m: float division by zero"
     ]
    }
   ],
   "source": [
    "lambada = []\n",
    "for i in range(1,len(data)-1):\n",
    "    jump=0\n",
    "    jump = (data[\"post_money_valuation\"][i] - data['deal_amount'][i] - data[\"post_money_valuation\"][i-1])/data[\"post_money_valuation\"][i-1]\n",
    "    time = (data['date'][i] - data['date'][i-1]).days\n",
    "    lambada.append(jump*365/time)\n",
    "\n",
    "print(np.mean(lambada))\n",
    "print(np.std(lambada))\n",
    "intensity = len(lambada)/(((data['date'][len(data)-1] - data['date'][0]).days)/365)\n",
    "print(intensity)\n"
   ]
  },
  {
   "cell_type": "code",
   "execution_count": 115,
   "id": "f255dc71",
   "metadata": {},
   "outputs": [
    {
     "data": {
      "text/plain": [
       "[0.10824701839696864]"
      ]
     },
     "execution_count": 115,
     "metadata": {},
     "output_type": "execute_result"
    }
   ],
   "source": [
    "geom = []\n",
    "for i in range(1,len(data)-1):\n",
    "    ret=0\n",
    "    ret = (data[\"deal_amount\"][i])/data[\"post_money_valuation\"][i-1]\n",
    "    time = (data['date'][i] - data['date'][i-1]).days\n",
    "    geom.append(ret*365/time)\n",
    "geom= geom[1:]\n",
    "geom\n",
    "\n"
   ]
  },
  {
   "cell_type": "code",
   "execution_count": 116,
   "id": "77511fe3",
   "metadata": {},
   "outputs": [
    {
     "data": {
      "text/plain": [
       "Text(0.5, 1.0, 'Jump Diffusion Process')"
      ]
     },
     "execution_count": 116,
     "metadata": {},
     "output_type": "execute_result"
    },
    {
     "data": {
      "image/png": "[encoded data removed]",
      "text/plain": [
       "<Figure size 432x288 with 1 Axes>"
      ]
     },
     "metadata": {},
     "output_type": "display_data"
    }
   ],
   "source": [
    "S = data['post_money_valuation'][0] # current stock price\n",
    "T = ((data['date'][len(data)-1] - data['date'][0]).days)/365 # time to maturity\n",
    "\n",
    "##Selection bias removal\n",
    "c_prob_round\n",
    "c_prob_IPO\n",
    "c_prob_bankruptcy\n",
    "c_no_round_prob\n",
    "\n",
    "r = np.mean(geom) # risk free rate\n",
    "m = np.mean(np.array(lambada)*np.array(c_prob_round)) # meean of jump size\n",
    "v = np.std(np.array(lambada)*np.array(c_prob_round)) # standard deviation of jump\n",
    "lam = intensity # intensity of jump i.e. number of jumps per annum\n",
    "steps =  3825 #time steps\n",
    "Npaths = 10000 # number of paths to simulate\n",
    "sigma = np.std(geom) # annaul standard deviation , for weiner process\n",
    "\n",
    "j = merton_jump_paths(S, T, r, sigma, lam, m, v, steps, Npaths)\n",
    "\n",
    "plt.plot(np.mean(j,axis=1))\n",
    "plt.xlabel('Days')\n",
    "plt.ylabel('Stock Price')\n",
    "plt.title('Jump Diffusion Process')"
   ]
  },
  {
   "cell_type": "code",
   "execution_count": 117,
   "id": "74da2dd9",
   "metadata": {},
   "outputs": [
    {
     "data": {
      "text/plain": [
       "[<matplotlib.lines.Line2D at 0x24de26e8d00>]"
      ]
     },
     "execution_count": 117,
     "metadata": {},
     "output_type": "execute_result"
    },
    {
     "data": {
      "image/png": "[encoded data removed]",
      "text/plain": [
       "<Figure size 432x288 with 1 Axes>"
      ]
     },
     "metadata": {},
     "output_type": "display_data"
    }
   ],
   "source": [
    "plt.plot(data['post_money_valuation'])"
   ]
  },
  {
   "cell_type": "markdown",
   "id": "bd92817d",
   "metadata": {},
   "source": [
    "Liquidation method"
   ]
  },
  {
   "cell_type": "code",
   "execution_count": 119,
   "id": "a1ae3750",
   "metadata": {},
   "outputs": [],
   "source": [
    "theta=0.5\n",
    "V_thresh = data['post_money_valuation'][len(data)-1]\n",
    "u1 = (sigma**2/2 - r - lam*np.log(theta) + np.sqrt((sigma**2/2 - r - lam*np.log(theta))**2 +(2*sigma**2+2*lam*(np.log(theta))**2)*(lam+rf)))/(sigma**2+lam*(np.log(theta))**2)\n",
    "a1= (1/u1)*(V_thresh**(1-u1))"
   ]
  },
  {
   "cell_type": "code",
   "execution_count": 120,
   "id": "f838fc2f",
   "metadata": {},
   "outputs": [
    {
     "data": {
      "text/plain": [
       "160672419.86896166"
      ]
     },
     "execution_count": 120,
     "metadata": {},
     "output_type": "execute_result"
    }
   ],
   "source": [
    "V = np.mean(j,axis=1)[-1]\n",
    "Liq_val = a1*(V**u1)\n",
    "Liq_val"
   ]
  },
  {
   "cell_type": "code",
   "execution_count": 121,
   "id": "3ded1d0a",
   "metadata": {},
   "outputs": [
    {
     "data": {
      "text/plain": [
       "10730112.299372502"
      ]
     },
     "execution_count": 121,
     "metadata": {},
     "output_type": "execute_result"
    }
   ],
   "source": [
    "##Assuming K = liquidation value\n",
    "mcprice = np.maximum(np.mean(j,axis=1)[-1]-Liq_val,0)*np.exp(-rf*T)\n",
    "mcprice"
   ]
  },
  {
   "cell_type": "code",
   "execution_count": 131,
   "id": "c7570430",
   "metadata": {},
   "outputs": [],
   "source": [
    "f = {\"company_id\": [str(1)],\"post_money_valuation\": [data['post_money_valuation'][len(data)-1]], \"volatility\": [v], \"mean_return\": [m],\"option_price\": [mcprice]}\n",
    "result = pd.DataFrame(f)"
   ]
  },
  {
   "cell_type": "code",
   "execution_count": 132,
   "id": "91046b9b",
   "metadata": {},
   "outputs": [
    {
     "data": {
      "text/html": [
       "<div>\n",
       "<style scoped>\n",
       "    .dataframe tbody tr th:only-of-type {\n",
       "        vertical-align: middle;\n",
       "    }\n",
       "\n",
       "    .dataframe tbody tr th {\n",
       "        vertical-align: top;\n",
       "    }\n",
       "\n",
       "    .dataframe thead th {\n",
       "        text-align: right;\n",
       "    }\n",
       "</style>\n",
       "<table border=\"1\" class=\"dataframe\">\n",
       "  <thead>\n",
       "    <tr style=\"text-align: right;\">\n",
       "      <th></th>\n",
       "      <th>company_id</th>\n",
       "      <th>post_money_valuation</th>\n",
       "      <th>volatility</th>\n",
       "      <th>mean_return</th>\n",
       "      <th>option_price</th>\n",
       "    </tr>\n",
       "  </thead>\n",
       "  <tbody>\n",
       "    <tr>\n",
       "      <th>0</th>\n",
       "      <td>1</td>\n",
       "      <td>100240000</td>\n",
       "      <td>0.055803</td>\n",
       "      <td>-0.032194</td>\n",
       "      <td>1.073011e+07</td>\n",
       "    </tr>\n",
       "  </tbody>\n",
       "</table>\n",
       "</div>"
      ],
      "text/plain": [
       "  company_id  post_money_valuation  volatility  mean_return  option_price\n",
       "0          1             100240000    0.055803    -0.032194  1.073011e+07"
      ]
     },
     "execution_count": 132,
     "metadata": {},
     "output_type": "execute_result"
    }
   ],
   "source": [
    "result"
   ]
  },
  {
   "cell_type": "code",
   "execution_count": null,
   "id": "76537af9",
   "metadata": {},
   "outputs": [],
   "source": []
  }
 ],
 "metadata": {
  "kernelspec": {
   "display_name": "Python 3",
   "language": "python",
   "name": "python3"
  },
  "language_info": {
   "codemirror_mode": {
    "name": "ipython",
    "version": 3
   },
   "file_extension": ".py",
   "mimetype": "text/x-python",
   "name": "python",
   "nbconvert_exporter": "python",
   "pygments_lexer": "ipython3",
   "version": "3.8.8"
  }
 },
 "nbformat": 4,
 "nbformat_minor": 5
}
